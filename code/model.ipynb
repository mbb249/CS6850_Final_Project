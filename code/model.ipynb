{
 "cells": [
  {
   "cell_type": "code",
   "execution_count": 2,
   "metadata": {},
   "outputs": [
    {
     "name": "stdout",
     "output_type": "stream",
     "text": [
      "Intel MKL WARNING: Support of Intel(R) Streaming SIMD Extensions 4.2 (Intel(R) SSE4.2) enabled only processors has been deprecated. Intel oneAPI Math Kernel Library 2025.0 will require Intel(R) Advanced Vector Extensions (Intel(R) AVX) instructions.\n",
      "Intel MKL WARNING: Support of Intel(R) Streaming SIMD Extensions 4.2 (Intel(R) SSE4.2) enabled only processors has been deprecated. Intel oneAPI Math Kernel Library 2025.0 will require Intel(R) Advanced Vector Extensions (Intel(R) AVX) instructions.\n"
     ]
    }
   ],
   "source": [
    "import rasterio\n",
    "import csv\n",
    "from rasterio.plot import show\n",
    "from rasterio.transform import from_origin\n",
    "import pandas as pd\n",
    "import networkx as nx\n",
    "import math\n",
    "import random\n",
    "from collections import defaultdict\n",
    "import matplotlib.pyplot as plt"
   ]
  },
  {
   "cell_type": "markdown",
   "metadata": {},
   "source": [
    "# Preprocessing"
   ]
  },
  {
   "cell_type": "markdown",
   "metadata": {},
   "source": [
    "## Preprocessing Gowalla"
   ]
  },
  {
   "cell_type": "code",
   "execution_count": 8,
   "metadata": {},
   "outputs": [
    {
     "name": "stdout",
     "output_type": "stream",
     "text": [
      "{'driver': 'GTiff', 'dtype': 'float32', 'nodata': -3.4028230607370965e+38, 'width': 1440, 'height': 720, 'count': 1, 'crs': CRS.from_epsg(4326), 'transform': Affine(0.25, 0.0, -180.0,\n",
      "       0.0, -0.25, 89.99999999999991)}\n",
      "Skipping user 132930 at (402.091872, 153.116143) - Coordinates out of valid range\n",
      "Skipping user 132930 at (402.026603, 153.026752) - Coordinates out of valid range\n",
      "Skipping user 132930 at (402.026603, 153.026752) - Coordinates out of valid range\n"
     ]
    }
   ],
   "source": [
    "pop_density_file = \"../population/gpw_v4_population_density_rev11_2020_15_min.tif\"\n",
    "with rasterio.open(pop_density_file) as dataset:\n",
    "    print(dataset.meta)\n",
    "\n",
    "    input_file = \"../gowalla_data/edges_locations.txt\"\n",
    "    data = {}\n",
    "\n",
    "    for line in open(input_file, \"r\"):\n",
    "        user_id, timestamp, latitude, longitude, _ = line.split()\n",
    "        user_id = int(user_id)\n",
    "        latitude = float(latitude)\n",
    "        longitude = float(longitude)\n",
    "\n",
    "        if user_id not in data:\n",
    "            if -90 <= latitude <= 90 and -180 <= longitude <= 180:\n",
    "                try:\n",
    "                    row, col = dataset.index(longitude, latitude)\n",
    "                    pop_density = dataset.read(1)[\n",
    "                        row, col\n",
    "                    ]\n",
    "\n",
    "                    data[user_id] = (latitude, longitude, pop_density)\n",
    "                except IndexError:\n",
    "                    print(\n",
    "                        f\"Skipping user {user_id} at ({latitude}, {longitude}) - Out of bounds\"\n",
    "                    )\n",
    "            else:\n",
    "                print(\n",
    "                    f\"Skipping user {user_id} at ({latitude}, {longitude}) - Coordinates out of valid range\"\n",
    "                )"
   ]
  },
  {
   "cell_type": "code",
   "execution_count": 23,
   "metadata": {},
   "outputs": [
    {
     "name": "stdout",
     "output_type": "stream",
     "text": [
      "Data has been successfully written to ../gowalla_data/locations_with_population.csv\n"
     ]
    }
   ],
   "source": [
    "output_file = \"../gowalla_data/locations_with_population.csv\"\n",
    "with open(output_file, \"w\", newline=\"\") as csvfile:\n",
    "    writer = csv.writer(csvfile)\n",
    "    writer.writerow([\"user_id\", \"latitude\", \"longitude\", \"population_density\"])\n",
    "    for user_id, (lat, lon, pop_density) in data.items():\n",
    "        writer.writerow([user_id, lat, lon, pop_density])\n",
    "\n",
    "print(f\"Data has been successfully written to {output_file}\")"
   ]
  },
  {
   "cell_type": "code",
   "execution_count": null,
   "metadata": {},
   "outputs": [
    {
     "name": "stdout",
     "output_type": "stream",
     "text": [
      "{'driver': 'GTiff', 'dtype': 'float32', 'nodata': -3.4028230607370965e+38, 'width': 1440, 'height': 720, 'count': 1, 'crs': CRS.from_epsg(4326), 'transform': Affine(0.25, 0.0, -180.0,\n",
      "       0.0, -0.25, 89.99999999999991)}\n",
      "Population density at New York City: 4588.83349609375\n"
     ]
    }
   ],
   "source": [
    "## Experimentations with pop_density\n",
    "pop_density_file_15min = \"../population/gpw_v4_population_density_rev11_2020_15_min.tif\"\n",
    "\n",
    "with rasterio.open(pop_density_file_15min) as dataset:\n",
    "    print(dataset.meta)\n",
    "\n",
    "    latitude, longitude = 40.7128, -74.0060  # New York City coordinates\n",
    "    row, col = dataset.index(longitude, latitude)\n",
    "    pop_density = dataset.read(1)[row, col]\n",
    "    print(f\"Population density at New York City: {pop_density}\")"
   ]
  },
  {
   "cell_type": "code",
   "execution_count": 12,
   "metadata": {},
   "outputs": [
    {
     "data": {
      "text/html": [
       "<div>\n",
       "<style scoped>\n",
       "    .dataframe tbody tr th:only-of-type {\n",
       "        vertical-align: middle;\n",
       "    }\n",
       "\n",
       "    .dataframe tbody tr th {\n",
       "        vertical-align: top;\n",
       "    }\n",
       "\n",
       "    .dataframe thead th {\n",
       "        text-align: right;\n",
       "    }\n",
       "</style>\n",
       "<table border=\"1\" class=\"dataframe\">\n",
       "  <thead>\n",
       "    <tr style=\"text-align: right;\">\n",
       "      <th></th>\n",
       "      <th>user_id</th>\n",
       "      <th>latitude</th>\n",
       "      <th>longitude</th>\n",
       "      <th>population_density</th>\n",
       "    </tr>\n",
       "  </thead>\n",
       "  <tbody>\n",
       "    <tr>\n",
       "      <th>0</th>\n",
       "      <td>0</td>\n",
       "      <td>30.235909</td>\n",
       "      <td>-97.795140</td>\n",
       "      <td>549.16534</td>\n",
       "    </tr>\n",
       "    <tr>\n",
       "      <th>1</th>\n",
       "      <td>1</td>\n",
       "      <td>48.863379</td>\n",
       "      <td>2.333329</td>\n",
       "      <td>11588.53400</td>\n",
       "    </tr>\n",
       "    <tr>\n",
       "      <th>2</th>\n",
       "      <td>2</td>\n",
       "      <td>34.043023</td>\n",
       "      <td>-118.267157</td>\n",
       "      <td>3767.41300</td>\n",
       "    </tr>\n",
       "    <tr>\n",
       "      <th>3</th>\n",
       "      <td>4</td>\n",
       "      <td>37.782605</td>\n",
       "      <td>-122.407608</td>\n",
       "      <td>3406.03610</td>\n",
       "    </tr>\n",
       "    <tr>\n",
       "      <th>4</th>\n",
       "      <td>5</td>\n",
       "      <td>40.761177</td>\n",
       "      <td>-73.986871</td>\n",
       "      <td>8311.10700</td>\n",
       "    </tr>\n",
       "  </tbody>\n",
       "</table>\n",
       "</div>"
      ],
      "text/plain": [
       "   user_id   latitude   longitude  population_density\n",
       "0        0  30.235909  -97.795140           549.16534\n",
       "1        1  48.863379    2.333329         11588.53400\n",
       "2        2  34.043023 -118.267157          3767.41300\n",
       "3        4  37.782605 -122.407608          3406.03610\n",
       "4        5  40.761177  -73.986871          8311.10700"
      ]
     },
     "execution_count": 12,
     "metadata": {},
     "output_type": "execute_result"
    }
   ],
   "source": [
    "df = pd.read_csv(output_file)\n",
    "df.head()"
   ]
  },
  {
   "cell_type": "markdown",
   "metadata": {},
   "source": [
    "## Preprocessing Foursquare"
   ]
  },
  {
   "cell_type": "code",
   "execution_count": 24,
   "metadata": {},
   "outputs": [
    {
     "name": "stdout",
     "output_type": "stream",
     "text": [
      "Raster metadata: {'driver': 'GTiff', 'dtype': 'float32', 'nodata': -3.4028230607370965e+38, 'width': 1440, 'height': 720, 'count': 1, 'crs': CRS.from_epsg(4326), 'transform': Affine(0.25, 0.0, -180.0,\n",
      "       0.0, -0.25, 89.99999999999991)}\n"
     ]
    }
   ],
   "source": [
    "pop_density_file = \"../population/gpw_v4_population_density_rev11_2020_15_min.tif\"\n",
    "\n",
    "input_file = \"../foursquare_data/data_with_twitter.csv\"\n",
    "output_file = \"../foursquare_data/data_with_population.csv\"\n",
    "\n",
    "df = pd.read_csv(input_file)\n",
    "\n",
    "data = {}\n",
    "\n",
    "with rasterio.open(pop_density_file) as dataset:\n",
    "    print(\"Raster metadata:\", dataset.meta)\n",
    "\n",
    "    for index, row in df.iterrows():\n",
    "        user_id = row[\"User ID\"]\n",
    "        latitude = row[\"Latitude\"]\n",
    "        longitude = row[\"Longitude\"]\n",
    "\n",
    "        if -90 <= latitude <= 90 and -180 <= longitude <= 180:\n",
    "            try:\n",
    "                raster_row, raster_col = dataset.index(longitude, latitude)\n",
    "                pop_density = dataset.read(1)[raster_row, raster_col]\n",
    "\n",
    "                data[user_id] = {\n",
    "                    \"latitude\": latitude,\n",
    "                    \"longitude\": longitude,\n",
    "                    \"degree\": row[\"Degree\"],\n",
    "                    \"clustering_coefficient\": row[\"ClusteringCoefficient\"],\n",
    "                    \"gender\": row[\"Gender\"],\n",
    "                    \"twitter_friend_count\": row[\"TwitterFriendCount\"],\n",
    "                    \"twitter_follower_count\": row[\"TwitterFollowerCount\"],\n",
    "                    \"population_density\": pop_density,\n",
    "                }\n",
    "            except IndexError:\n",
    "                print(\n",
    "                    f\"Skipping user {user_id} at ({latitude}, {longitude}) - Out of bounds\"\n",
    "                )\n",
    "        else:\n",
    "            print(\n",
    "                f\"Skipping user {user_id} at ({latitude}, {longitude}) - Coordinates out of valid range\"\n",
    "            )"
   ]
  },
  {
   "cell_type": "code",
   "execution_count": 25,
   "metadata": {},
   "outputs": [
    {
     "name": "stdout",
     "output_type": "stream",
     "text": [
      "Data has been successfully written to ../foursquare_data/data_with_population.csv\n"
     ]
    }
   ],
   "source": [
    "with open(output_file, \"w\", newline=\"\") as csvfile:\n",
    "    writer = csv.writer(csvfile)\n",
    "    writer.writerow(\n",
    "        [\n",
    "            \"user_id\",\n",
    "            \"latitude\",\n",
    "            \"longitude\",\n",
    "            \"degree\",\n",
    "            \"clustering_coefficient\",\n",
    "            \"gender\",\n",
    "            \"twitter_friend_count\",\n",
    "            \"twitter_follower_count\",\n",
    "            \"population_density\",\n",
    "        ]\n",
    "    )\n",
    "\n",
    "    for user_id, user_data in data.items():\n",
    "        writer.writerow(\n",
    "            [\n",
    "                user_id,\n",
    "                user_data[\"latitude\"],\n",
    "                user_data[\"longitude\"],\n",
    "                user_data[\"degree\"],\n",
    "                user_data[\"clustering_coefficient\"],\n",
    "                user_data[\"gender\"],\n",
    "                user_data[\"twitter_friend_count\"],\n",
    "                user_data[\"twitter_follower_count\"],\n",
    "                user_data[\"population_density\"],\n",
    "            ]\n",
    "        )\n",
    "\n",
    "print(f\"Data has been successfully written to {output_file}\")"
   ]
  },
  {
   "cell_type": "code",
   "execution_count": 26,
   "metadata": {},
   "outputs": [
    {
     "name": "stdout",
     "output_type": "stream",
     "text": [
      "\n",
      "First few rows of the new dataset:\n",
      "   user_id   latitude   longitude  degree  clustering_coefficient  gender  \\\n",
      "0   224351  40.733596  -74.003139       2                     0.0    male   \n",
      "1   131527  34.010279 -118.495523       0                     0.0    male   \n",
      "2   262430  34.075314 -118.253499       0                     0.0    male   \n",
      "3   199229  40.718363  -73.990817       0                     0.0    male   \n",
      "4    21174  40.741632  -73.978377       0                     0.0  female   \n",
      "\n",
      "   twitter_friend_count  twitter_follower_count  population_density  \n",
      "0                   142                     168           4588.8335  \n",
      "1                   656                     249           3767.4130  \n",
      "2                   696                      97           3767.4130  \n",
      "3                   377                     218          11586.3670  \n",
      "4                   596                     671          11586.3670  \n"
     ]
    }
   ],
   "source": [
    "result_df = pd.read_csv(output_file)\n",
    "print(\"\\nFirst few rows of the new dataset:\")\n",
    "print(result_df.head())"
   ]
  },
  {
   "cell_type": "markdown",
   "metadata": {},
   "source": [
    "# Creating Graph"
   ]
  },
  {
   "cell_type": "markdown",
   "metadata": {},
   "source": [
    "## Graph for Gowalla"
   ]
  },
  {
   "cell_type": "code",
   "execution_count": 15,
   "metadata": {},
   "outputs": [],
   "source": [
    "nodes_df = pd.read_csv(\"../gowalla_data/locations_with_population.csv\")\n",
    "\n",
    "edges_df = pd.read_csv(\"../gowalla_data/edges.txt\", sep=\"\\t\", names=[\"source\", \"target\"])\n",
    "\n",
    "G = nx.Graph()\n",
    "\n",
    "for index, row in nodes_df.iterrows():\n",
    "    if not pd.isna(row[\"latitude\"]) and not pd.isna(row[\"longitude\"]):\n",
    "        G.add_node(\n",
    "            row[\"user_id\"],\n",
    "            latitude=row[\"latitude\"],\n",
    "            longitude=row[\"longitude\"],\n",
    "            population_density=row[\"population_density\"],\n",
    "        )\n",
    "\n",
    "for index, row in edges_df.iterrows():\n",
    "    if G.has_node(row[\"source\"]) and G.has_node(row[\"target\"]):\n",
    "        G.add_edge(row[\"source\"], row[\"target\"])"
   ]
  },
  {
   "cell_type": "markdown",
   "metadata": {},
   "source": [
    "# Deterministic Methods"
   ]
  },
  {
   "cell_type": "code",
   "execution_count": 16,
   "metadata": {},
   "outputs": [],
   "source": [
    "def haversine_distance(node1, node2):\n",
    "    # convert from degrees to radians\n",
    "    lat1 = math.radians(node1[\"latitude\"])\n",
    "    lon1 = math.radians(node1[\"longitude\"])\n",
    "    lat2 = math.radians(node2[\"latitude\"])\n",
    "    lon2 = math.radians(node2[\"longitude\"])\n",
    "\n",
    "    # haversine formula\n",
    "    dlat = lat2 - lat1\n",
    "    dlon = lon2 - lon1\n",
    "    a = (\n",
    "        math.sin(dlat / 2) ** 2\n",
    "        + math.cos(lat1) * math.cos(lat2) * math.sin(dlon / 2) ** 2\n",
    "    )\n",
    "    c = 2 * math.atan2(math.sqrt(a), math.sqrt(1 - a))\n",
    "    radius = 6371  # earth's radius in kilometers\n",
    "    distance = radius * c\n",
    "    return distance"
   ]
  },
  {
   "cell_type": "code",
   "execution_count": 17,
   "metadata": {},
   "outputs": [],
   "source": [
    "max_degree = max(dict(G.degree()).values())"
   ]
  },
  {
   "cell_type": "code",
   "execution_count": 18,
   "metadata": {},
   "outputs": [],
   "source": [
    "MAX_USER_ID = 196590\n",
    "MIN_USER_ID = 0\n",
    "MAX_HOPS = 20\n",
    "ALPHA = 0.001"
   ]
  },
  {
   "cell_type": "code",
   "execution_count": 19,
   "metadata": {},
   "outputs": [],
   "source": [
    "def degree_only_search(G, start, target, max_hops):\n",
    "    return generic_search(\n",
    "        G, start, target, max_hops, lambda neighbor, _: G.degree(neighbor)\n",
    "    )\n",
    "\n",
    "\n",
    "def geography_only_search(G, start, target, max_hops):\n",
    "    target_data = G.nodes[target]\n",
    "    return generic_search(\n",
    "        G,\n",
    "        start,\n",
    "        target,\n",
    "        max_hops,\n",
    "        lambda neighbor, _: -haversine_distance(G.nodes[neighbor], target_data),\n",
    "    )\n",
    "\n",
    "\n",
    "def geography_population_search(G, start, target, max_hops):\n",
    "    target_data = G.nodes[target]\n",
    "    return generic_search(\n",
    "        G,\n",
    "        start,\n",
    "        target,\n",
    "        max_hops,\n",
    "        lambda neighbor, _: -haversine_distance(G.nodes[neighbor], target_data)\n",
    "        / (1 + ALPHA * G.nodes[neighbor][\"population_density\"]),\n",
    "    )\n",
    "\n",
    "\n",
    "def evn_search(G, start, target, max_hops):\n",
    "    target_data = G.nodes[target]\n",
    "    max_degree = max(dict(G.degree()).values())\n",
    "    return generic_search(\n",
    "        G,\n",
    "        start,\n",
    "        target,\n",
    "        max_hops,\n",
    "        lambda neighbor, _: (G.degree(neighbor) / max_degree)\n",
    "        * (1 / (haversine_distance(G.nodes[neighbor], target_data) + 1)),\n",
    "    )\n",
    "\n",
    "\n",
    "def enhanced_evn_search(G, start, target, max_hops):\n",
    "    target_data = G.nodes[target]\n",
    "    max_degree = max(dict(G.degree()).values())\n",
    "    return generic_search(\n",
    "        G,\n",
    "        start,\n",
    "        target,\n",
    "        max_hops,\n",
    "        lambda neighbor, _: (G.degree(neighbor) / max_degree)\n",
    "        * (1 / (haversine_distance(G.nodes[neighbor], target_data) + 1))\n",
    "        / (1 + ALPHA * G.nodes[neighbor][\"population_density\"]),\n",
    "    )\n",
    "\n",
    "\n",
    "def generic_search(G, start, target, max_hops, score_func):\n",
    "    current_node = start\n",
    "    visited = set()\n",
    "    path = [current_node]\n",
    "    hops = 0\n",
    "\n",
    "    while hops < max_hops:\n",
    "        if current_node == target:\n",
    "            return path\n",
    "\n",
    "        visited.add(current_node)\n",
    "        neighbors = [n for n in G.neighbors(current_node) if n not in visited]\n",
    "\n",
    "        if not neighbors:\n",
    "            return None\n",
    "\n",
    "        if target in neighbors:\n",
    "            path.append(target)\n",
    "            return path \n",
    "\n",
    "        scores = {}\n",
    "        for neighbor in neighbors:\n",
    "            neighbor_data = G.nodes[neighbor]\n",
    "            if \"latitude\" not in neighbor_data or \"longitude\" not in neighbor_data:\n",
    "                print(f\"Skipping node {neighbor} due to missing location data\")\n",
    "                continue\n",
    "\n",
    "            scores[neighbor] = score_func(neighbor, current_node)\n",
    "\n",
    "        if not scores:\n",
    "            return None  \n",
    "\n",
    "        current_node = max(scores, key=scores.get)\n",
    "        path.append(current_node)\n",
    "        hops += 1\n",
    "\n",
    "    return None "
   ]
  },
  {
   "cell_type": "markdown",
   "metadata": {},
   "source": [
    "# Evaluation"
   ]
  },
  {
   "cell_type": "code",
   "execution_count": 21,
   "metadata": {},
   "outputs": [],
   "source": [
    "def run_tests(G, num_tests=100):\n",
    "    results = defaultdict(list)\n",
    "    strategies = {\n",
    "        \"Degree Only\": degree_only_search,\n",
    "        \"Geography Only\": geography_only_search,\n",
    "        \"Geography + Population\": geography_population_search,\n",
    "        \"EVN\": evn_search,\n",
    "        \"Enhanced EVN\": enhanced_evn_search,\n",
    "    }\n",
    "\n",
    "    for strategy_name, strategy_func in strategies.items():\n",
    "        success_count = 0\n",
    "        total_hops = 0\n",
    "        for _ in range(num_tests):\n",
    "            start = random.randint(MIN_USER_ID, MAX_USER_ID)\n",
    "            target = random.randint(MIN_USER_ID, MAX_USER_ID)\n",
    "\n",
    "            if (\n",
    "                not G.has_node(start)\n",
    "                or not G.has_node(target)\n",
    "                or not nx.has_path(G, start, target)\n",
    "            ):\n",
    "                continue  \n",
    "\n",
    "            path = strategy_func(G, start, target, MAX_HOPS)\n",
    "            if path:\n",
    "                success_count += 1\n",
    "                total_hops += len(path) - 1 \n",
    "\n",
    "        success_rate = success_count / num_tests\n",
    "        avg_hops = total_hops / success_count if success_count else 0\n",
    "        results[\"Strategy\"].append(strategy_name)\n",
    "        results[\"Success Rate\"].append(success_rate)\n",
    "        results[\"Average Hops\"].append(avg_hops)\n",
    "\n",
    "    return pd.DataFrame(results)\n",
    "\n",
    "\n"
   ]
  },
  {
   "cell_type": "markdown",
   "metadata": {},
   "source": [
    "## Results Gowalla"
   ]
  },
  {
   "cell_type": "code",
   "execution_count": 22,
   "metadata": {},
   "outputs": [],
   "source": [
    "# Run tests and plot results\n",
    "results_df = run_tests(G, num_tests=5000)"
   ]
  },
  {
   "cell_type": "code",
   "execution_count": 92,
   "metadata": {},
   "outputs": [
    {
     "name": "stdout",
     "output_type": "stream",
     "text": [
      "                 Strategy  Success Rate  Average Hops\n",
      "0             Degree Only        0.0564      5.390071\n",
      "1          Geography Only        0.0246      8.983740\n",
      "2  Geography + Population        0.0218      9.027523\n",
      "3                     EVN        0.0806      7.761787\n",
      "4            Enhanced EVN        0.0732      7.756831\n"
     ]
    }
   ],
   "source": [
    "print (results_df)"
   ]
  },
  {
   "cell_type": "code",
   "execution_count": 52,
   "metadata": {},
   "outputs": [
    {
     "data": {
      "image/png": "[encoded data removed]",
      "text/plain": [
       "<Figure size 640x480 with 2 Axes>"
      ]
     },
     "metadata": {},
     "output_type": "display_data"
    }
   ],
   "source": [
    "fig, ax1 = plt.subplots()\n",
    "ax2 = ax1.twinx()\n",
    "results_df.plot(\n",
    "    x=\"Strategy\",\n",
    "    y=\"Success Rate\",\n",
    "    kind=\"bar\",\n",
    "    ax=ax1,\n",
    "    color=\"lightblue\",\n",
    "    position=1,\n",
    "    width=0.4,\n",
    ")\n",
    "results_df.plot(\n",
    "    x=\"Strategy\",\n",
    "    y=\"Average Hops\",\n",
    "    kind=\"bar\",\n",
    "    ax=ax2,\n",
    "    color=\"lightcoral\",\n",
    "    position=0,\n",
    "    width=0.4,\n",
    ")\n",
    "\n",
    "ax1.set_ylabel(\"Success Rate\")\n",
    "ax2.set_ylabel(\"Average Hops\")\n",
    "plt.title(\"Comparison of Search Strategies\")\n",
    "plt.show()"
   ]
  },
  {
   "cell_type": "markdown",
   "metadata": {},
   "source": [
    "## Results Foursquare"
   ]
  }
 ],
 "metadata": {
  "kernelspec": {
   "display_name": "base",
   "language": "python",
   "name": "python3"
  },
  "language_info": {
   "codemirror_mode": {
    "name": "ipython",
    "version": 3
   },
   "file_extension": ".py",
   "mimetype": "text/x-python",
   "name": "python",
   "nbconvert_exporter": "python",
   "pygments_lexer": "ipython3",
   "version": "3.10.14"
  }
 },
 "nbformat": 4,
 "nbformat_minor": 2
}
